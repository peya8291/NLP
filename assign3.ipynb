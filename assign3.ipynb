{
 "cells": [
  {
   "cell_type": "code",
   "execution_count": 259,
   "metadata": {},
   "outputs": [],
   "source": [
    "from collections import Counter\n",
    "from collections import defaultdict\n",
    "import numpy as np\n",
    "import math"
   ]
  },
  {
   "cell_type": "code",
   "execution_count": 260,
   "metadata": {},
   "outputs": [],
   "source": [
    "text = open(\"hobbit-train.txt\",'r',encoding='utf-8')\n",
    "text=text.read()\n",
    "#print(text)"
   ]
  },
  {
   "cell_type": "code",
   "execution_count": 261,
   "metadata": {},
   "outputs": [
    {
     "data": {
      "text/plain": [
       "513683"
      ]
     },
     "execution_count": 261,
     "metadata": {},
     "output_type": "execute_result"
    }
   ],
   "source": [
    "len(text)"
   ]
  },
  {
   "cell_type": "code",
   "execution_count": 262,
   "metadata": {},
   "outputs": [],
   "source": [
    "#words = text.split()\n",
    "#len(words)\n",
    "#print(words)"
   ]
  },
  {
   "cell_type": "code",
   "execution_count": 263,
   "metadata": {},
   "outputs": [
    {
     "data": {
      "text/plain": [
       "513683"
      ]
     },
     "execution_count": 263,
     "metadata": {},
     "output_type": "execute_result"
    }
   ],
   "source": [
    "words = [char for char in text]\n",
    "#print(words)\n",
    "len(words)"
   ]
  },
  {
   "cell_type": "code",
   "execution_count": 264,
   "metadata": {},
   "outputs": [
    {
     "name": "stdout",
     "output_type": "stream",
     "text": [
      "Counter({' ': 93830, 'e': 47526, 't': 34103, 'a': 31405, 'o': 29898, 'n': 27017, 'h': 25800, 'i': 22793, 's': 22088, 'r': 21423, 'd': 19512, 'l': 17225, '\\n': 14247, 'u': 10549, 'w': 10111, 'g': 9689, 'f': 8679, 'm': 7940, 'y': 7103, 'c': 6568, 'b': 6374, ',': 5578, 'p': 5153, '.': 4554, 'k': 3685, 'v': 3415, 'T': 1697, '“': 1377, '”': 1373, 'B': 1333, 'I': 1303, '!': 1000, '-': 656, ';': 610, '’': 601, 'A': 577, 'H': 566, 'W': 536, 'G': 475, 'S': 459, 'M': 403, '?': 315, 'q': 301, 'x': 292, 'j': 288, 'N': 284, '—': 279, 'D': 261, 'O': 255, 'E': 227, 'z': 220, 'F': 201, 'L': 197, ':': 165, 'Y': 159, 'C': 125, \"'\": 122, '(': 119, ')': 119, 'R': 111, 'K': 78, 'P': 68, 'U': 53, 'V': 44, '\"': 40, '‘': 39, 'J': 33, 'Q': 17, 'X': 13, '/': 9, '1': 6, '\\\\': 5, '0': 4, '&': 1, '4': 1, '5': 1})\n"
     ]
    }
   ],
   "source": [
    "rawfreqs = Counter(words)\n",
    "print(rawfreqs)"
   ]
  },
  {
   "cell_type": "code",
   "execution_count": 265,
   "metadata": {},
   "outputs": [],
   "source": [
    "#rawfreqs.items()"
   ]
  },
  {
   "cell_type": "code",
   "execution_count": 266,
   "metadata": {},
   "outputs": [
    {
     "name": "stdout",
     "output_type": "stream",
     "text": [
      "defaultdict(<function <lambda> at 0x0000025640C3D268>, {})\n"
     ]
    }
   ],
   "source": [
    "word2index = defaultdict(lambda: len(word2index))\n",
    "print(word2index)\n"
   ]
  },
  {
   "cell_type": "code",
   "execution_count": 267,
   "metadata": {},
   "outputs": [
    {
     "data": {
      "text/plain": [
       "0"
      ]
     },
     "execution_count": 267,
     "metadata": {},
     "output_type": "execute_result"
    }
   ],
   "source": [
    "word2index[\"<UNK>\"]"
   ]
  },
  {
   "cell_type": "code",
   "execution_count": 268,
   "metadata": {},
   "outputs": [
    {
     "data": {
      "text/plain": [
       "[1,\n",
       " 2,\n",
       " 3,\n",
       " 4,\n",
       " 5,\n",
       " 6,\n",
       " 7,\n",
       " 8,\n",
       " 9,\n",
       " 10,\n",
       " 11,\n",
       " 12,\n",
       " 13,\n",
       " 14,\n",
       " 15,\n",
       " 16,\n",
       " 17,\n",
       " 18,\n",
       " 19,\n",
       " 20,\n",
       " 21,\n",
       " 22,\n",
       " 23,\n",
       " 24,\n",
       " 25,\n",
       " 26,\n",
       " 27,\n",
       " 28,\n",
       " 29,\n",
       " 30,\n",
       " 31,\n",
       " 32,\n",
       " 33,\n",
       " 34,\n",
       " 35,\n",
       " 36,\n",
       " 37,\n",
       " 38,\n",
       " 39,\n",
       " 40,\n",
       " 41,\n",
       " 42,\n",
       " 43,\n",
       " 44,\n",
       " 45,\n",
       " 46,\n",
       " 47,\n",
       " 48,\n",
       " 49,\n",
       " 50,\n",
       " 51,\n",
       " 52,\n",
       " 53,\n",
       " 54,\n",
       " 55,\n",
       " 56,\n",
       " 57,\n",
       " 58,\n",
       " 59,\n",
       " 60,\n",
       " 61,\n",
       " 62,\n",
       " 63,\n",
       " 64,\n",
       " 65,\n",
       " 66,\n",
       " 67,\n",
       " 68,\n",
       " 69,\n",
       " 70,\n",
       " 71,\n",
       " 72,\n",
       " 73]"
      ]
     },
     "execution_count": 268,
     "metadata": {},
     "output_type": "execute_result"
    }
   ],
   "source": [
    "[word2index[word] for word, freq in rawfreqs.items() if freq > 1]"
   ]
  },
  {
   "cell_type": "code",
   "execution_count": 269,
   "metadata": {},
   "outputs": [
    {
     "name": "stdout",
     "output_type": "stream",
     "text": [
      "74\n"
     ]
    }
   ],
   "source": [
    "print(len(word2index))"
   ]
  },
  {
   "cell_type": "code",
   "execution_count": 270,
   "metadata": {},
   "outputs": [],
   "source": [
    "word2index = defaultdict(lambda: 0, word2index)"
   ]
  },
  {
   "cell_type": "code",
   "execution_count": 271,
   "metadata": {},
   "outputs": [],
   "source": [
    "trigrams = [ (word2index[words[i-2]],word2index[words[i-1]], word2index[words[i]]) for i in range(2, len(words)) ]"
   ]
  },
  {
   "cell_type": "code",
   "execution_count": 272,
   "metadata": {},
   "outputs": [],
   "source": [
    "#print(trigrams)"
   ]
  },
  {
   "cell_type": "code",
   "execution_count": 273,
   "metadata": {},
   "outputs": [],
   "source": [
    "trigramFreqs = Counter(trigrams)"
   ]
  },
  {
   "cell_type": "code",
   "execution_count": 274,
   "metadata": {},
   "outputs": [],
   "source": [
    "#print(trigramFreqs)"
   ]
  },
  {
   "cell_type": "code",
   "execution_count": 275,
   "metadata": {},
   "outputs": [
    {
     "name": "stdout",
     "output_type": "stream",
     "text": [
      "8535\n"
     ]
    }
   ],
   "source": [
    "print(len(trigramFreqs))"
   ]
  },
  {
   "cell_type": "code",
   "execution_count": 276,
   "metadata": {},
   "outputs": [],
   "source": [
    "bigrams = [(word2index[words[i-1]], word2index[words[i]]) for i in range(1, len(words)) ]"
   ]
  },
  {
   "cell_type": "code",
   "execution_count": 277,
   "metadata": {},
   "outputs": [
    {
     "name": "stdout",
     "output_type": "stream",
     "text": [
      "1342\n"
     ]
    }
   ],
   "source": [
    "bigramFreqs = Counter(bigrams)\n",
    "print(len(bigramFreqs))"
   ]
  },
  {
   "cell_type": "code",
   "execution_count": 278,
   "metadata": {},
   "outputs": [
    {
     "name": "stdout",
     "output_type": "stream",
     "text": [
      "74\n"
     ]
    }
   ],
   "source": [
    "#compute unograms\n",
    "unigrams = [word2index[word] for word in words]\n",
    "unigramFreqs = Counter(unigrams)\n",
    "print(len(unigramFreqs))\n"
   ]
  },
  {
   "cell_type": "code",
   "execution_count": 279,
   "metadata": {},
   "outputs": [],
   "source": [
    "def unigramProb(unigram): \n",
    "    return np.log((unigramFreqs[unigram]+1)/(sum(unigramFreqs.values())+len(unigramFreqs)))"
   ]
  },
  {
   "cell_type": "code",
   "execution_count": 280,
   "metadata": {},
   "outputs": [],
   "source": [
    "def bigramProb(bigram):\n",
    "    return np.log((bigramFreqs[bigram]+1)/(unigramFreqs[bigram[0]]+len(unigramFreqs)))"
   ]
  },
  {
   "cell_type": "code",
   "execution_count": 281,
   "metadata": {},
   "outputs": [],
   "source": [
    "def trigramProb(trigram):\n",
    "    return (trigramFreqs[trigram]+1)/(bigramFreqs[(trigram[0],trigram[1])]+len(unigramFreqs))"
   ]
  },
  {
   "cell_type": "code",
   "execution_count": 282,
   "metadata": {},
   "outputs": [],
   "source": [
    "def trigramSentenceProb(words):   \n",
    "    return sum(np.log([trigramProb((word2index[words[i-2]],word2index[words[i-1]], word2index[words[i]])) for i in range(2, len(words))]))"
   ]
  },
  {
   "cell_type": "code",
   "execution_count": 283,
   "metadata": {},
   "outputs": [],
   "source": [
    "def trigram_sentence_prob(words):\n",
    "    return unigramProb(word2index[words[0]])+bigramProb((word2index[words[0]],word2index[words[1]]))+trigramSentenceProb(words)"
   ]
  },
  {
   "cell_type": "code",
   "execution_count": 284,
   "metadata": {},
   "outputs": [],
   "source": [
    "def trigram_sentence_ppl(words):\n",
    "    return np.exp(-trigram_sentence_prob(words)/len(words))"
   ]
  },
  {
   "cell_type": "code",
   "execution_count": 285,
   "metadata": {},
   "outputs": [],
   "source": [
    "test1=\"In a hole in the ground\"\n",
    "sentence = test1.split()\n",
    "#newTrigramSentenceProb = unigramProb(word2index[sentence[0]])+bigramProb((word2index[sentence[0]],word2index[sentence[1]]))+trigramSentenceProb(sentence)"
   ]
  },
  {
   "cell_type": "code",
   "execution_count": 286,
   "metadata": {},
   "outputs": [
    {
     "data": {
      "text/plain": [
       "-32.67039898399084"
      ]
     },
     "execution_count": 286,
     "metadata": {},
     "output_type": "execute_result"
    }
   ],
   "source": [
    "trigram_sentence_prob(sentence)"
   ]
  },
  {
   "cell_type": "code",
   "execution_count": 287,
   "metadata": {},
   "outputs": [],
   "source": [
    "#trigram_sentence_ppl= np.exp((-newTrigramSentenceProb)/len(sentence))"
   ]
  },
  {
   "cell_type": "code",
   "execution_count": 288,
   "metadata": {},
   "outputs": [
    {
     "data": {
      "text/plain": [
       "231.61268082534"
      ]
     },
     "execution_count": 288,
     "metadata": {},
     "output_type": "execute_result"
    }
   ],
   "source": [
    "trigram_sentence_ppl(sentence)"
   ]
  },
  {
   "cell_type": "code",
   "execution_count": 303,
   "metadata": {},
   "outputs": [],
   "source": [
    "test = open(\"hw-test.txt\",'r',encoding='utf-8')\n",
    "test=test.read()\n",
    "#print(test)"
   ]
  },
  {
   "cell_type": "code",
   "execution_count": 304,
   "metadata": {},
   "outputs": [],
   "source": [
    "test = test.split('\\n')\n",
    "#print(test)"
   ]
  },
  {
   "cell_type": "code",
   "execution_count": 305,
   "metadata": {},
   "outputs": [],
   "source": [
    "#test= [char for char in test]\n",
    "#print(test1)"
   ]
  },
  {
   "cell_type": "code",
   "execution_count": 306,
   "metadata": {},
   "outputs": [],
   "source": [
    "output_file = open('Yan-Peng-test1.txt','w')\n",
    "#test_words = test.split()"
   ]
  },
  {
   "cell_type": "code",
   "execution_count": 307,
   "metadata": {},
   "outputs": [
    {
     "data": {
      "text/plain": [
       "[18, 18, 18, 18, 18, 18, 18, 18, 18, 18]"
      ]
     },
     "execution_count": 307,
     "metadata": {},
     "output_type": "execute_result"
    }
   ],
   "source": [
    "[output_file.write(str(trigram_sentence_ppl(test_words.split()))+'\\n')for test_words in test]"
   ]
  },
  {
   "cell_type": "code",
   "execution_count": null,
   "metadata": {},
   "outputs": [],
   "source": []
  },
  {
   "cell_type": "code",
   "execution_count": null,
   "metadata": {},
   "outputs": [],
   "source": []
  }
 ],
 "metadata": {
  "kernelspec": {
   "display_name": "Python 3",
   "language": "python",
   "name": "python3"
  },
  "language_info": {
   "codemirror_mode": {
    "name": "ipython",
    "version": 3
   },
   "file_extension": ".py",
   "mimetype": "text/x-python",
   "name": "python",
   "nbconvert_exporter": "python",
   "pygments_lexer": "ipython3",
   "version": "3.7.3"
  }
 },
 "nbformat": 4,
 "nbformat_minor": 2
}
